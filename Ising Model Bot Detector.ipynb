{
 "cells": [
  {
   "cell_type": "markdown",
   "metadata": {},
   "source": [
    "# Ising Model Bot Detector\n",
    "\n",
    "This notebook demonstrates how to apply the Ising model bot detector to a set of tweets."
   ]
  },
  {
   "cell_type": "code",
   "execution_count": 1,
   "metadata": {},
   "outputs": [],
   "source": [
    "import math\n",
    "import datetime, time\n",
    "import random\n",
    "import numpy as np\n",
    "import networkx as nx\n",
    "import pandas as pd\n",
    "import matplotlib.pyplot as plt\n",
    "import seaborn as sns\n",
    "\n",
    "from networkClassifierHELPER import *\n",
    "from sklearn import metrics\n",
    "\n"
   ]
  },
  {
   "cell_type": "markdown",
   "metadata": {},
   "source": [
    "# Load Tweets into Dataframe\n",
    "\n",
    "Read the tweets in the data file into a dataframe.  The tweets are in the file `\"data/tweets_pizzagate.parquet.gz\"`."
   ]
  },
  {
   "cell_type": "code",
   "execution_count": null,
   "metadata": {},
   "outputs": [],
   "source": [
    "fname_tweets = \"data/tweets_pizzagate.parquet.gz\"\n",
    "\n",
    "df_tweets = pd.read_parquet(fname_tweets)\n",
    "print(\"Tweet dataframe loaded\")"
   ]
  },
  {
   "cell_type": "markdown",
   "metadata": {},
   "source": [
    "# Create Retweet Graph\n",
    "\n",
    "Extract the source user for each retweet and create the retweet graph `Gretweet`.  The edge format is `(source,retweeter,num_retweets)`.\n",
    "\n",
    "We save `Gretweet` to a pickle file so we don't have to create it everytime."
   ]
  },
  {
   "cell_type": "code",
   "execution_count": null,
   "metadata": {},
   "outputs": [],
   "source": [
    "print(\"Building retweet network\")\n",
    "fname_Gretweet = \"data/Gretweet_pizzagate_bot_detection.gpickle\"\n",
    "\n",
    "Gretweet = retweet_network_from_tweets_for_bot_detection(df_tweets)             \n",
    "nx.write_gpickle(Gretweet,fname_Gretweet)"
   ]
  },
  {
   "cell_type": "markdown",
   "metadata": {},
   "source": [
    "# Apply Ising Model Bot Detector\n",
    "\n",
    "Use the function `ising_bot_detector` to calculate the bot probability of each node.  The probabilities are returned in a dictionary `bot_probability` where the key is the node screen name."
   ]
  },
  {
   "cell_type": "code",
   "execution_count": null,
   "metadata": {},
   "outputs": [
    {
     "name": "stdout",
     "output_type": "stream",
     "text": [
      "Find bots\n",
      "\tComputing graph cut\n",
      "\tCalculating Ising bot probabilities\n",
      "Node 0\n"
     ]
    }
   ],
   "source": [
    "fname_Gretweet = \"data/Gretweet_pizzagate_bot_detection.gpickle\"\n",
    "Gretweet = nx.read_gpickle(fname_Gretweet)\n",
    "nv = Gretweet.number_of_nodes()\n",
    "ne = Gretweet.number_of_edges()\n",
    "\n",
    "print(f\"Retweet graph has {nv} nodes and {ne} edges\")\n",
    "print(\"Find bots with Ising model algorithm\")\n",
    "bot_probability = ising_bot_detector(Gretweet)"
   ]
  },
  {
   "cell_type": "markdown",
   "metadata": {},
   "source": [
    "# Bot Probability Histogram\n",
    "\n",
    "Plot a histogram of the bot probabilities.  You can set a threshold probability that separates the bulk of the distribution from a separate high probability cluster."
   ]
  },
  {
   "cell_type": "code",
   "execution_count": null,
   "metadata": {},
   "outputs": [],
   "source": [
    "df_botprob = pd.DataFrame({'screen_name':[v for v in bot_probability.keys()],\n",
    "                            'bot_probability':[bot_probability[v] for v in bot_probability.keys()]})\n",
    "fig = plt.figure(figsize=(8,6))\n",
    "sns.histplot(data = df_botprob, x = 'bot_probability')\n",
    "plt.xlabel(\"Bot probability\",fontsize = 14)\n",
    "plt.ylabel(\"Frequency\",fontsize = 14)\n",
    "plt.grid()\n",
    "plt.show()\n"
   ]
  }
 ],
 "metadata": {
  "kernelspec": {
   "display_name": "Python 3",
   "language": "python",
   "name": "python3"
  },
  "language_info": {
   "codemirror_mode": {
    "name": "ipython",
    "version": 3
   },
   "file_extension": ".py",
   "mimetype": "text/x-python",
   "name": "python",
   "nbconvert_exporter": "python",
   "pygments_lexer": "ipython3",
   "version": "3.7.2"
  }
 },
 "nbformat": 4,
 "nbformat_minor": 2
}
